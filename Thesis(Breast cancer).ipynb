{
 "cells": [
  {
   "cell_type": "code",
   "execution_count": 1,
   "metadata": {},
   "outputs": [],
   "source": [
    "# Importing libraries\n",
    "import pandas as pd\n",
    "import numpy as np\n",
    "import matplotlib.pyplot as plt\n",
    "pd.set_option(\"display.precision\", 4)\n",
    "# Metrics\n",
    "from sklearn.metrics import accuracy_score\n",
    "from sklearn.metrics import f1_score"
   ]
  },
  {
   "cell_type": "code",
   "execution_count": 2,
   "metadata": {},
   "outputs": [],
   "source": [
    "# Loading the data\n",
    "df = pd.read_csv('Data.csv')\n",
    "X = df.iloc[:, :-1].values\n",
    "y = df.iloc[:, -1].values"
   ]
  },
  {
   "cell_type": "code",
   "execution_count": 3,
   "metadata": {},
   "outputs": [],
   "source": [
    "# Encoding the Dependent Variable\n",
    "from sklearn.preprocessing import LabelEncoder\n",
    "le = LabelEncoder()\n",
    "y = le.fit_transform(y)"
   ]
  },
  {
   "cell_type": "code",
   "execution_count": 4,
   "metadata": {},
   "outputs": [],
   "source": [
    "# Splitting the data into train and test set\n",
    "from sklearn.model_selection import train_test_split\n",
    "X_train, X_test, y_train, y_test = train_test_split(X, y,\n",
    "                                                    test_size = 0.2,\n",
    "                                                    random_state =2)\n",
    "\n"
   ]
  },
  {
   "cell_type": "code",
   "execution_count": 5,
   "metadata": {},
   "outputs": [],
   "source": [
    "# Feature scaling\n",
    "from sklearn.preprocessing import StandardScaler\n",
    "sc = StandardScaler()\n",
    "X_train = sc.fit_transform(X_train)\n",
    "X_test = sc.fit_transform(X_test)"
   ]
  },
  {
   "cell_type": "code",
   "execution_count": 6,
   "metadata": {},
   "outputs": [],
   "source": [
    "# Training the Logistic Regression model \n",
    "from sklearn.linear_model import LogisticRegression\n",
    "classifier_lr = LogisticRegression()\n",
    "classifier_lr.fit(X_train, y_train)\n",
    "\n",
    "# Predicting the test values\n",
    "y_pred_lr = classifier_lr.predict(X_test)\n",
    "\n",
    "# Scoring\n",
    "acc_lr = accuracy_score(y_test, y_pred_lr)\n",
    "f1_lr = f1_score(y_test, y_pred_lr)"
   ]
  },
  {
   "cell_type": "code",
   "execution_count": 7,
   "metadata": {},
   "outputs": [],
   "source": [
    "# Training the KNN model\n",
    "\n",
    "from sklearn.neighbors import KNeighborsClassifier\n",
    "classifier_knn = KNeighborsClassifier(n_neighbors = 30, p = 3, metric = 'minkowski')\n",
    "classifier_knn.fit(X_train, y_train)\n",
    "\n",
    "# Predicting the test values\n",
    "y_pred_knn = classifier_knn.predict(X_test)\n",
    "\n",
    "# Scoring\n",
    "acc_knn = accuracy_score(y_test, y_pred_knn)\n",
    "f1_knn = f1_score(y_test, y_pred_knn)"
   ]
  },
  {
   "cell_type": "code",
   "execution_count": 8,
   "metadata": {},
   "outputs": [],
   "source": [
    "# Training the SVM Classifier model\n",
    "from sklearn.svm import SVC\n",
    "classifier_svm = SVC(random_state = 1)\n",
    "classifier_svm.fit(X_train, y_train)\n",
    "\n",
    "# Predicting the test values\n",
    "y_pred_svm = classifier_svm.predict(X_test)\n",
    "\n",
    "# Scoring\n",
    "acc_svm = accuracy_score(y_test, y_pred_svm)\n",
    "f1_svm = f1_score(y_test, y_pred_svm)\n"
   ]
  },
  {
   "cell_type": "code",
   "execution_count": 9,
   "metadata": {},
   "outputs": [],
   "source": [
    "# Training the Kernel SVM model\n",
    "from sklearn.svm import SVC\n",
    "classifier_ksvm = SVC(kernel = 'rbf', random_state = 97)\n",
    "classifier_ksvm.fit(X_train, y_train)\n",
    "\n",
    "# Predicting the test values\n",
    "y_pred_ksvm = classifier_ksvm.predict(X_test)\n",
    "\n",
    "# Scoring\n",
    "acc_ksvm = accuracy_score(y_test, y_pred_ksvm)\n",
    "f1_ksvm = f1_score(y_test, y_pred_ksvm)"
   ]
  },
  {
   "cell_type": "code",
   "execution_count": 10,
   "metadata": {},
   "outputs": [
    {
     "data": {
      "text/html": [
       "<style  type=\"text/css\" >\n",
       "</style><table id=\"T_9fa569f0_af22_11ec_a953_dcf505d6fe54\" ><thead>    <tr>        <th class=\"blank level0\" ></th>        <th class=\"col_heading level0 col0\" >Accuracy</th>        <th class=\"col_heading level0 col1\" >f1 score</th>    </tr></thead><tbody>\n",
       "                <tr>\n",
       "                        <th id=\"T_9fa569f0_af22_11ec_a953_dcf505d6fe54level0_row0\" class=\"row_heading level0 row0\" >LR</th>\n",
       "                        <td id=\"T_9fa569f0_af22_11ec_a953_dcf505d6fe54row0_col0\" class=\"data row0 col0\" >0.9798</td>\n",
       "                        <td id=\"T_9fa569f0_af22_11ec_a953_dcf505d6fe54row0_col1\" class=\"data row0 col1\" >0.9718</td>\n",
       "            </tr>\n",
       "            <tr>\n",
       "                        <th id=\"T_9fa569f0_af22_11ec_a953_dcf505d6fe54level0_row1\" class=\"row_heading level0 row1\" >KNN</th>\n",
       "                        <td id=\"T_9fa569f0_af22_11ec_a953_dcf505d6fe54row1_col0\" class=\"data row1 col0\" >0.9731</td>\n",
       "                        <td id=\"T_9fa569f0_af22_11ec_a953_dcf505d6fe54row1_col1\" class=\"data row1 col1\" >0.9625</td>\n",
       "            </tr>\n",
       "            <tr>\n",
       "                        <th id=\"T_9fa569f0_af22_11ec_a953_dcf505d6fe54level0_row2\" class=\"row_heading level0 row2\" >SVM</th>\n",
       "                        <td id=\"T_9fa569f0_af22_11ec_a953_dcf505d6fe54row2_col0\" class=\"data row2 col0\" >0.9888</td>\n",
       "                        <td id=\"T_9fa569f0_af22_11ec_a953_dcf505d6fe54row2_col1\" class=\"data row2 col1\" >0.9845</td>\n",
       "            </tr>\n",
       "            <tr>\n",
       "                        <th id=\"T_9fa569f0_af22_11ec_a953_dcf505d6fe54level0_row3\" class=\"row_heading level0 row3\" >KSVM</th>\n",
       "                        <td id=\"T_9fa569f0_af22_11ec_a953_dcf505d6fe54row3_col0\" class=\"data row3 col0\" >0.9888</td>\n",
       "                        <td id=\"T_9fa569f0_af22_11ec_a953_dcf505d6fe54row3_col1\" class=\"data row3 col1\" >0.9845</td>\n",
       "            </tr>\n",
       "    </tbody></table>"
      ],
      "text/plain": [
       "<pandas.io.formats.style.Styler at 0x1f4b58c2a88>"
      ]
     },
     "execution_count": 10,
     "metadata": {},
     "output_type": "execute_result"
    }
   ],
   "source": [
    "#Results\n",
    "scores = np.array([[acc_lr, f1_lr], [acc_knn, f1_knn], [acc_svm, f1_svm],\n",
    "                   [acc_ksvm, f1_ksvm]])\n",
    "result = pd.DataFrame(data = scores,\n",
    "                      columns = ['Accuracy', 'f1 score'],\n",
    "                      index = ['LR', 'KNN', 'SVM', 'KSVM'])\n",
    "result.style"
   ]
  },
  {
   "cell_type": "code",
   "execution_count": 11,
   "metadata": {},
   "outputs": [],
   "source": [
    "data = {'LR':acc_lr*100, 'KNN':acc_knn*100, 'SVM':acc_svm*100,\n",
    "        'KSVM':acc_ksvm*100}"
   ]
  },
  {
   "cell_type": "code",
   "execution_count": 12,
   "metadata": {},
   "outputs": [
    {
     "data": {
      "text/plain": [
       "[<matplotlib.lines.Line2D at 0x1f4b880e748>]"
      ]
     },
     "execution_count": 12,
     "metadata": {},
     "output_type": "execute_result"
    },
    {
     "data": {
      "image/png": "[encoded data removed]",
      "text/plain": [
       "<Figure size 432x288 with 1 Axes>"
      ]
     },
     "metadata": {
      "needs_background": "light"
     },
     "output_type": "display_data"
    }
   ],
   "source": [
    "models = list(data.keys())\n",
    "acc = list(data.values())\n",
    "  \n",
    "plt.plot(models,acc,'-o')\n"
   ]
  }
 ],
 "metadata": {
  "kernelspec": {
   "display_name": "Python 3",
   "language": "python",
   "name": "python3"
  },
  "language_info": {
   "codemirror_mode": {
    "name": "ipython",
    "version": 3
   },
   "file_extension": ".py",
   "mimetype": "text/x-python",
   "name": "python",
   "nbconvert_exporter": "python",
   "pygments_lexer": "ipython3",
   "version": "3.7.6"
  }
 },
 "nbformat": 4,
 "nbformat_minor": 4
}
